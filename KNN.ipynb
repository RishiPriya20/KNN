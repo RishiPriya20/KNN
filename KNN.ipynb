{
 "cells": [
  {
   "cell_type": "markdown",
   "id": "34ed6511-d7df-43c9-8d1b-812c77909a04",
   "metadata": {},
   "source": [
    "**K-Nearest Neighbours**"
   ]
  },
  {
   "cell_type": "markdown",
   "id": "e41424fb-6814-45be-8bbe-792c97bcd58b",
   "metadata": {},
   "source": [
    "**Objective:** \n",
    "The objective of this assignment is to implement and evaluate the K-Nearest Neighbours algorithm for classification using the given datasets\n"
   ]
  },
  {
   "cell_type": "code",
   "execution_count": 3,
   "id": "067bbda7-38e2-46b4-934f-25e75564622e",
   "metadata": {},
   "outputs": [
    {
     "name": "stdout",
     "output_type": "stream",
     "text": [
      "    animal name  hair  feathers  eggs  milk  airborne  aquatic  predator  \\\n",
      "0      aardvark     1         0     0     1         0        0         1   \n",
      "1      antelope     1         0     0     1         0        0         0   \n",
      "2          bass     0         0     1     0         0        1         1   \n",
      "3          bear     1         0     0     1         0        0         1   \n",
      "4          boar     1         0     0     1         0        0         1   \n",
      "..          ...   ...       ...   ...   ...       ...      ...       ...   \n",
      "96      wallaby     1         0     0     1         0        0         0   \n",
      "97         wasp     1         0     1     0         1        0         0   \n",
      "98         wolf     1         0     0     1         0        0         1   \n",
      "99         worm     0         0     1     0         0        0         0   \n",
      "100        wren     0         1     1     0         1        0         0   \n",
      "\n",
      "     toothed  backbone  breathes  venomous  fins  legs  tail  domestic  \\\n",
      "0          1         1         1         0     0     4     0         0   \n",
      "1          1         1         1         0     0     4     1         0   \n",
      "2          1         1         0         0     1     0     1         0   \n",
      "3          1         1         1         0     0     4     0         0   \n",
      "4          1         1         1         0     0     4     1         0   \n",
      "..       ...       ...       ...       ...   ...   ...   ...       ...   \n",
      "96         1         1         1         0     0     2     1         0   \n",
      "97         0         0         1         1     0     6     0         0   \n",
      "98         1         1         1         0     0     4     1         0   \n",
      "99         0         0         1         0     0     0     0         0   \n",
      "100        0         1         1         0     0     2     1         0   \n",
      "\n",
      "     catsize  type  \n",
      "0          1     1  \n",
      "1          1     1  \n",
      "2          0     4  \n",
      "3          1     1  \n",
      "4          1     1  \n",
      "..       ...   ...  \n",
      "96         1     1  \n",
      "97         0     6  \n",
      "98         1     1  \n",
      "99         0     7  \n",
      "100        0     2  \n",
      "\n",
      "[101 rows x 18 columns]\n"
     ]
    }
   ],
   "source": [
    "import pandas as pd\n",
    "import seaborn as sns\n",
    "import matplotlib.pyplot as plt\n",
    "df = pd.read_csv('C:\\\\Users\\\\rishi\\\\OneDrive\\\\Desktop\\\\DS Assigments\\\\Zoo.csv')\n",
    "print(df)"
   ]
  },
  {
   "cell_type": "code",
   "execution_count": 4,
   "id": "4707428d-00ec-4a47-8406-0f6614917d84",
   "metadata": {},
   "outputs": [
    {
     "name": "stdout",
     "output_type": "stream",
     "text": [
      "  animal name  hair  feathers  eggs  milk  airborne  aquatic  predator  \\\n",
      "0    aardvark     1         0     0     1         0        0         1   \n",
      "1    antelope     1         0     0     1         0        0         0   \n",
      "2        bass     0         0     1     0         0        1         1   \n",
      "3        bear     1         0     0     1         0        0         1   \n",
      "4        boar     1         0     0     1         0        0         1   \n",
      "\n",
      "   toothed  backbone  breathes  venomous  fins  legs  tail  domestic  catsize  \\\n",
      "0        1         1         1         0     0     4     0         0        1   \n",
      "1        1         1         1         0     0     4     1         0        1   \n",
      "2        1         1         0         0     1     0     1         0        0   \n",
      "3        1         1         1         0     0     4     0         0        1   \n",
      "4        1         1         1         0     0     4     1         0        1   \n",
      "\n",
      "   type  \n",
      "0     1  \n",
      "1     1  \n",
      "2     4  \n",
      "3     1  \n",
      "4     1  \n"
     ]
    }
   ],
   "source": [
    "print(df.head())"
   ]
  },
  {
   "cell_type": "code",
   "execution_count": 5,
   "id": "a8fc1b61-787b-48d7-a910-b993a61d10b7",
   "metadata": {},
   "outputs": [
    {
     "name": "stdout",
     "output_type": "stream",
     "text": [
      "             hair    feathers        eggs        milk    airborne     aquatic  \\\n",
      "count  101.000000  101.000000  101.000000  101.000000  101.000000  101.000000   \n",
      "mean     0.425743    0.198020    0.584158    0.405941    0.237624    0.356436   \n",
      "std      0.496921    0.400495    0.495325    0.493522    0.427750    0.481335   \n",
      "min      0.000000    0.000000    0.000000    0.000000    0.000000    0.000000   \n",
      "25%      0.000000    0.000000    0.000000    0.000000    0.000000    0.000000   \n",
      "50%      0.000000    0.000000    1.000000    0.000000    0.000000    0.000000   \n",
      "75%      1.000000    0.000000    1.000000    1.000000    0.000000    1.000000   \n",
      "max      1.000000    1.000000    1.000000    1.000000    1.000000    1.000000   \n",
      "\n",
      "         predator     toothed    backbone    breathes    venomous        fins  \\\n",
      "count  101.000000  101.000000  101.000000  101.000000  101.000000  101.000000   \n",
      "mean     0.554455    0.603960    0.821782    0.792079    0.079208    0.168317   \n",
      "std      0.499505    0.491512    0.384605    0.407844    0.271410    0.376013   \n",
      "min      0.000000    0.000000    0.000000    0.000000    0.000000    0.000000   \n",
      "25%      0.000000    0.000000    1.000000    1.000000    0.000000    0.000000   \n",
      "50%      1.000000    1.000000    1.000000    1.000000    0.000000    0.000000   \n",
      "75%      1.000000    1.000000    1.000000    1.000000    0.000000    0.000000   \n",
      "max      1.000000    1.000000    1.000000    1.000000    1.000000    1.000000   \n",
      "\n",
      "             legs        tail    domestic     catsize        type  \n",
      "count  101.000000  101.000000  101.000000  101.000000  101.000000  \n",
      "mean     2.841584    0.742574    0.128713    0.435644    2.831683  \n",
      "std      2.033385    0.439397    0.336552    0.498314    2.102709  \n",
      "min      0.000000    0.000000    0.000000    0.000000    1.000000  \n",
      "25%      2.000000    0.000000    0.000000    0.000000    1.000000  \n",
      "50%      4.000000    1.000000    0.000000    0.000000    2.000000  \n",
      "75%      4.000000    1.000000    0.000000    1.000000    4.000000  \n",
      "max      8.000000    1.000000    1.000000    1.000000    7.000000  \n"
     ]
    }
   ],
   "source": [
    "print(df.describe())"
   ]
  },
  {
   "cell_type": "code",
   "execution_count": 32,
   "id": "885a3b73-918a-49bb-a7aa-35af4bd0086e",
   "metadata": {},
   "outputs": [
    {
     "name": "stdout",
     "output_type": "stream",
     "text": [
      "<class 'pandas.core.frame.DataFrame'>\n",
      "RangeIndex: 101 entries, 0 to 100\n",
      "Data columns (total 18 columns):\n",
      " #   Column       Non-Null Count  Dtype \n",
      "---  ------       --------------  ----- \n",
      " 0   animal name  101 non-null    object\n",
      " 1   hair         101 non-null    int64 \n",
      " 2   feathers     101 non-null    int64 \n",
      " 3   eggs         101 non-null    int64 \n",
      " 4   milk         101 non-null    int64 \n",
      " 5   airborne     101 non-null    int64 \n",
      " 6   aquatic      101 non-null    int64 \n",
      " 7   predator     101 non-null    int64 \n",
      " 8   toothed      101 non-null    int64 \n",
      " 9   backbone     101 non-null    int64 \n",
      " 10  breathes     101 non-null    int64 \n",
      " 11  venomous     101 non-null    int64 \n",
      " 12  fins         101 non-null    int64 \n",
      " 13  legs         101 non-null    int64 \n",
      " 14  tail         101 non-null    int64 \n",
      " 15  domestic     101 non-null    int64 \n",
      " 16  catsize      101 non-null    int64 \n",
      " 17  type         101 non-null    int64 \n",
      "dtypes: int64(17), object(1)\n",
      "memory usage: 14.3+ KB\n",
      "None\n"
     ]
    }
   ],
   "source": [
    "print(df.info())"
   ]
  },
  {
   "cell_type": "code",
   "execution_count": 33,
   "id": "806d8865-13fc-4bb5-b945-d10b63e7699e",
   "metadata": {},
   "outputs": [
    {
     "data": {
      "text/html": [
       "<div>\n",
       "<style scoped>\n",
       "    .dataframe tbody tr th:only-of-type {\n",
       "        vertical-align: middle;\n",
       "    }\n",
       "\n",
       "    .dataframe tbody tr th {\n",
       "        vertical-align: top;\n",
       "    }\n",
       "\n",
       "    .dataframe thead th {\n",
       "        text-align: right;\n",
       "    }\n",
       "</style>\n",
       "<table border=\"1\" class=\"dataframe\">\n",
       "  <thead>\n",
       "    <tr style=\"text-align: right;\">\n",
       "      <th></th>\n",
       "      <th>animal name</th>\n",
       "      <th>hair</th>\n",
       "      <th>feathers</th>\n",
       "      <th>eggs</th>\n",
       "      <th>milk</th>\n",
       "      <th>airborne</th>\n",
       "      <th>aquatic</th>\n",
       "      <th>predator</th>\n",
       "      <th>toothed</th>\n",
       "      <th>backbone</th>\n",
       "      <th>breathes</th>\n",
       "      <th>venomous</th>\n",
       "      <th>fins</th>\n",
       "      <th>legs</th>\n",
       "      <th>tail</th>\n",
       "      <th>domestic</th>\n",
       "      <th>catsize</th>\n",
       "      <th>type</th>\n",
       "    </tr>\n",
       "  </thead>\n",
       "  <tbody>\n",
       "    <tr>\n",
       "      <th>0</th>\n",
       "      <td>aardvark</td>\n",
       "      <td>1</td>\n",
       "      <td>0</td>\n",
       "      <td>0</td>\n",
       "      <td>1</td>\n",
       "      <td>0</td>\n",
       "      <td>0</td>\n",
       "      <td>1</td>\n",
       "      <td>1</td>\n",
       "      <td>1</td>\n",
       "      <td>1</td>\n",
       "      <td>0</td>\n",
       "      <td>0</td>\n",
       "      <td>4</td>\n",
       "      <td>0</td>\n",
       "      <td>0</td>\n",
       "      <td>1</td>\n",
       "      <td>1</td>\n",
       "    </tr>\n",
       "    <tr>\n",
       "      <th>1</th>\n",
       "      <td>antelope</td>\n",
       "      <td>1</td>\n",
       "      <td>0</td>\n",
       "      <td>0</td>\n",
       "      <td>1</td>\n",
       "      <td>0</td>\n",
       "      <td>0</td>\n",
       "      <td>0</td>\n",
       "      <td>1</td>\n",
       "      <td>1</td>\n",
       "      <td>1</td>\n",
       "      <td>0</td>\n",
       "      <td>0</td>\n",
       "      <td>4</td>\n",
       "      <td>1</td>\n",
       "      <td>0</td>\n",
       "      <td>1</td>\n",
       "      <td>1</td>\n",
       "    </tr>\n",
       "    <tr>\n",
       "      <th>2</th>\n",
       "      <td>bass</td>\n",
       "      <td>0</td>\n",
       "      <td>0</td>\n",
       "      <td>1</td>\n",
       "      <td>0</td>\n",
       "      <td>0</td>\n",
       "      <td>1</td>\n",
       "      <td>1</td>\n",
       "      <td>1</td>\n",
       "      <td>1</td>\n",
       "      <td>0</td>\n",
       "      <td>0</td>\n",
       "      <td>1</td>\n",
       "      <td>0</td>\n",
       "      <td>1</td>\n",
       "      <td>0</td>\n",
       "      <td>0</td>\n",
       "      <td>4</td>\n",
       "    </tr>\n",
       "    <tr>\n",
       "      <th>3</th>\n",
       "      <td>bear</td>\n",
       "      <td>1</td>\n",
       "      <td>0</td>\n",
       "      <td>0</td>\n",
       "      <td>1</td>\n",
       "      <td>0</td>\n",
       "      <td>0</td>\n",
       "      <td>1</td>\n",
       "      <td>1</td>\n",
       "      <td>1</td>\n",
       "      <td>1</td>\n",
       "      <td>0</td>\n",
       "      <td>0</td>\n",
       "      <td>4</td>\n",
       "      <td>0</td>\n",
       "      <td>0</td>\n",
       "      <td>1</td>\n",
       "      <td>1</td>\n",
       "    </tr>\n",
       "    <tr>\n",
       "      <th>4</th>\n",
       "      <td>boar</td>\n",
       "      <td>1</td>\n",
       "      <td>0</td>\n",
       "      <td>0</td>\n",
       "      <td>1</td>\n",
       "      <td>0</td>\n",
       "      <td>0</td>\n",
       "      <td>1</td>\n",
       "      <td>1</td>\n",
       "      <td>1</td>\n",
       "      <td>1</td>\n",
       "      <td>0</td>\n",
       "      <td>0</td>\n",
       "      <td>4</td>\n",
       "      <td>1</td>\n",
       "      <td>0</td>\n",
       "      <td>1</td>\n",
       "      <td>1</td>\n",
       "    </tr>\n",
       "  </tbody>\n",
       "</table>\n",
       "</div>"
      ],
      "text/plain": [
       "  animal name  hair  feathers  eggs  milk  airborne  aquatic  predator  \\\n",
       "0    aardvark     1         0     0     1         0        0         1   \n",
       "1    antelope     1         0     0     1         0        0         0   \n",
       "2        bass     0         0     1     0         0        1         1   \n",
       "3        bear     1         0     0     1         0        0         1   \n",
       "4        boar     1         0     0     1         0        0         1   \n",
       "\n",
       "   toothed  backbone  breathes  venomous  fins  legs  tail  domestic  catsize  \\\n",
       "0        1         1         1         0     0     4     0         0        1   \n",
       "1        1         1         1         0     0     4     1         0        1   \n",
       "2        1         1         0         0     1     0     1         0        0   \n",
       "3        1         1         1         0     0     4     0         0        1   \n",
       "4        1         1         1         0     0     4     1         0        1   \n",
       "\n",
       "   type  \n",
       "0     1  \n",
       "1     1  \n",
       "2     4  \n",
       "3     1  \n",
       "4     1  "
      ]
     },
     "execution_count": 33,
     "metadata": {},
     "output_type": "execute_result"
    }
   ],
   "source": [
    "df.head()"
   ]
  },
  {
   "cell_type": "code",
   "execution_count": 8,
   "id": "a485273c-d438-48a8-a20d-03f035b60d81",
   "metadata": {},
   "outputs": [
    {
     "name": "stdout",
     "output_type": "stream",
     "text": [
      "Index(['animal name', 'hair', 'feathers', 'eggs', 'milk', 'airborne',\n",
      "       'aquatic', 'predator', 'toothed', 'backbone', 'breathes', 'venomous',\n",
      "       'fins', 'legs', 'tail', 'domestic', 'catsize', 'type'],\n",
      "      dtype='object')\n"
     ]
    }
   ],
   "source": [
    "print(df.columns)"
   ]
  },
  {
   "cell_type": "code",
   "execution_count": 14,
   "id": "128cdc49-fcad-4ceb-98dc-f7c6d7574bcd",
   "metadata": {},
   "outputs": [
    {
     "data": {
      "image/png": "[encoded data removed]",
      "text/plain": [
       "<Figure size 640x480 with 1 Axes>"
      ]
     },
     "metadata": {},
     "output_type": "display_data"
    }
   ],
   "source": [
    "import seaborn as sns\n",
    "import matplotlib.pyplot as plt\n",
    "sns.countplot(x='type', data=df)\n",
    "plt.show()"
   ]
  },
  {
   "cell_type": "markdown",
   "id": "21b7f6b8-54b9-4283-8a25-a63d7398de3e",
   "metadata": {},
   "source": [
    "The countplot visualizes the distribution of animal type in the dataset it shows the number of occurences for each unique animal type in the dataset. from the plot can be observed which animal types are more common and which ones are less frequent. This helps us understand the class distribution and whether the dataset is balanced or imbalanced"
   ]
  },
  {
   "cell_type": "markdown",
   "id": "7e13d829-a14b-4c06-bf1d-682be5b074c4",
   "metadata": {},
   "source": [
    "**2.Preprocess the Data**"
   ]
  },
  {
   "cell_type": "code",
   "execution_count": 34,
   "id": "4b2fb78b-10ae-41a2-a960-2b88430960b1",
   "metadata": {},
   "outputs": [
    {
     "name": "stdout",
     "output_type": "stream",
     "text": [
      "animal name    0\n",
      "hair           0\n",
      "feathers       0\n",
      "eggs           0\n",
      "milk           0\n",
      "airborne       0\n",
      "aquatic        0\n",
      "predator       0\n",
      "toothed        0\n",
      "backbone       0\n",
      "breathes       0\n",
      "venomous       0\n",
      "fins           0\n",
      "legs           0\n",
      "tail           0\n",
      "domestic       0\n",
      "catsize        0\n",
      "type           0\n",
      "dtype: int64\n"
     ]
    }
   ],
   "source": [
    "print(df.isnull().sum())"
   ]
  },
  {
   "cell_type": "markdown",
   "id": "6906c687-7f50-4a80-b250-8f3e10591674",
   "metadata": {},
   "source": [
    "**Box plot**"
   ]
  },
  {
   "cell_type": "code",
   "execution_count": 36,
   "id": "5888282f-1c03-4b74-a75e-a0cd8035b449",
   "metadata": {},
   "outputs": [
    {
     "data": {
      "image/png": "[encoded data removed]",
      "text/plain": [
       "<Figure size 640x480 with 1 Axes>"
      ]
     },
     "metadata": {},
     "output_type": "display_data"
    }
   ],
   "source": [
    "sns.boxplot(x=df['legs'])\n",
    "sns.swarmplot(x=df['legs'], color='red')\n",
    "plt.show()"
   ]
  },
  {
   "cell_type": "markdown",
   "id": "220b92da-ea2b-4f18-b1c5-a45dcdccd034",
   "metadata": {},
   "source": [
    "In this code, a box plot and ewarm plot are created to visualize the distribution of the 'legs' feature in the dataset.\n",
    "The box plot shows the range, quartiles, and potential outliers for the number of legs across different animals. The box represents the interquartile range the line inside the box shows the median and the whiskers extend to show the overall spread of the data. Outliers if any are displayed as points outside the whiskers.\n",
    "The swarm plot overlays individual data points providing a more detailed view of the exact number of legs for each animal. This allows for better insight into the distribution and frequency of the value."
   ]
  },
  {
   "cell_type": "markdown",
   "id": "a97b97a3-1506-4832-adbb-0b22e951f490",
   "metadata": {},
   "source": [
    "**Splitting dataset into training and testing sets**"
   ]
  },
  {
   "cell_type": "code",
   "execution_count": 17,
   "id": "5f7f5bdc-2428-4014-8a8f-d1aafd077512",
   "metadata": {},
   "outputs": [],
   "source": [
    "from sklearn.model_selection import train_test_split\n",
    "\n",
    "X = df.drop(columns=['type', 'animal name'])\n",
    "y = df['type']\n",
    "X_train, X_test, y_train, y_test = train_test_split(X,y, test_size=0.2, random_state=42)"
   ]
  },
  {
   "cell_type": "markdown",
   "id": "01ccc1b8-d9a8-4cca-9b08-eb19e2e8572f",
   "metadata": {},
   "source": [
    "In this code the dataset is split into features(X) and the target label(y) . The column 'type' is the target variable representing the animal type all other columns except 'animal name' are used as features. The train_test_split function is used to divide the dataset into training and testing sets. Specifically 80% of the data is used for training the model and 20% is reserved for testing. The random_state-42 checks reproducibility means the same split is produced each time the code run"
   ]
  },
  {
   "cell_type": "markdown",
   "id": "cbc24b40-d5e7-4285-96a3-0d7236cb2cb0",
   "metadata": {},
   "source": [
    "**Implementing knn**"
   ]
  },
  {
   "cell_type": "code",
   "execution_count": 21,
   "id": "5c181ef4-31f3-41f3-846f-73ef1ba25410",
   "metadata": {},
   "outputs": [
    {
     "name": "stdout",
     "output_type": "stream",
     "text": [
      "Accuracy: 0.9523809523809523\n",
      "Precision: 0.9206349206349207\n",
      "Recall: 0.9523809523809523\n",
      "F1_scorez: 0.9333333333333333\n"
     ]
    },
    {
     "name": "stderr",
     "output_type": "stream",
     "text": [
      "C:\\ProgramData\\anaconda3\\Lib\\site-packages\\sklearn\\metrics\\_classification.py:1344: UndefinedMetricWarning: Precision is ill-defined and being set to 0.0 in labels with no predicted samples. Use `zero_division` parameter to control this behavior.\n",
      "  _warn_prf(average, modifier, msg_start, len(result))\n"
     ]
    }
   ],
   "source": [
    "from sklearn.neighbors import KNeighborsClassifier\n",
    "from sklearn.metrics import accuracy_score, precision_score, recall_score, f1_score\n",
    "knn=KNeighborsClassifier(n_neighbors=3)\n",
    "knn.fit(X_train, y_train)\n",
    "\n",
    "y_pred = knn.predict(X_test)\n",
    "\n",
    "print(\"Accuracy:\", accuracy_score(y_test, y_pred))\n",
    "print(\"Precision:\", precision_score(y_test, y_pred, average='weighted'))\n",
    "print(\"Recall:\", recall_score(y_test, y_pred, average='weighted'))\n",
    "print('F1_scorez:', f1_score(y_test, y_pred, average='weighted'))"
   ]
  },
  {
   "cell_type": "markdown",
   "id": "e00f505c-adc8-4c68-881e-ad9eaa290062",
   "metadata": {},
   "source": [
    "In this code the KNN algorithm is used to classify the dataset The KNN classifier is initialized with n_neighbors=3 means it looks at the 3 nearest neighbors to make predictions.\n",
    "The training data is used to train the model.\n",
    "The test is then used to make predictions which are stored in y_pred.\n",
    "The model's performance is evaluated using \n",
    "Accuracy measures how many predictions were correct out of the total number of predictions.\n",
    "Precision: Indicates how many of the predicted positive cases were actually positive.\n",
    "Recall: This shows how many actual positive cases were correctly predicted.\n",
    "F1 Score: Balances precision and recall mostly useful when classes are imbalanced.\n"
   ]
  },
  {
   "cell_type": "markdown",
   "id": "28cddcbf-55ad-4f79-9961-067c34c45193",
   "metadata": {},
   "source": [
    "**Visualizing the Decision Boundaries**"
   ]
  },
  {
   "cell_type": "code",
   "execution_count": 31,
   "id": "2d2e2066-4f54-4cf3-9eb6-18380a29751e",
   "metadata": {},
   "outputs": [
    {
     "data": {
      "image/png": "[encoded data removed]",
      "text/plain": [
       "<Figure size 640x480 with 1 Axes>"
      ]
     },
     "metadata": {},
     "output_type": "display_data"
    }
   ],
   "source": [
    "import numpy as np\n",
    "from matplotlib.colors import ListedColormap\n",
    "X= df[['legs', 'backbone']].values\n",
    "y = df['type'].values\n",
    "\n",
    "knn.fit(X,y)\n",
    "\n",
    "x_min, x_max = X[:, 0].min()-1,X[:, 0].max() + 1\n",
    "y_min, y_max = X[:, 1].min() -1, X[:, 1].max() + 1\n",
    "xx,yy = np.meshgrid(np.arange(x_min, x_max, 0.1),\n",
    "                    np.arange(y_min, y_max, 0.1))\n",
    "Z = knn.predict(np.c_[xx.ravel(), yy.ravel()])\n",
    "Z = Z.reshape(xx.shape)\n",
    "\n",
    "plt.contourf(xx, yy, Z, alpha=0.8, cmap=ListedColormap(('red', 'green', 'blue', 'yellow', 'cyan','magenta')))\n",
    "plt.scatter(X[:, 0], X[:, 1], c=y, edgecolors='k', marker='o', cmap=ListedColormap(('red','green','blue','yellow','cyan', 'magenta')))\n",
    "plt.xlabel('Legs')\n",
    "plt.ylabel('Backbone')\n",
    "plt.title('KNN Decision Boundaries')\n",
    "plt.show()"
   ]
  },
  {
   "cell_type": "markdown",
   "id": "cdf2659d-9bfe-4293-bdba-d99ba463a3b5",
   "metadata": {},
   "source": [
    "KNN algorithm was used to classify animal type based on the feature 'legs' and 'backbone' \n",
    "1.Selecting Features:\n",
    "Two features 'legs' and 'backbone' were selected from the dataset to classify animal types.\n",
    "\n",
    "2. Model training: The KNN was trained using these features and the corresponding animal types.\n",
    "\n",
    "3. Creating a Mesh Grid: A mesh grid was made over the range of values in the selected features extending beyond the minimum and maximum values to check the plot covers all possible points. This grid helps in plotting the decision boundaries.\n",
    "\n",
    "4. Predicting class Labels: The trained KNN model predicted the class labels for each point in the grid The results were reshaped to fit the grid structure.\n",
    "\n",
    "5. Plotting Decision Boundaries: The decision boundaries were plotted using different colors to show how the KNN model classifies different regions of the feature space.\n",
    "\n",
    "6. Plotting Data points: The actual data points were also plotted on the graph where each point represents an animal type and is colored according to its actual class.\n"
   ]
  },
  {
   "cell_type": "markdown",
   "id": "0c1204dd-14d1-4de2-9fee-28b80c9cbeeb",
   "metadata": {},
   "source": [
    "This visualization helps to understand how the KNN model seperates different animal types based on the 'legs' and 'backbone' features and how it forms decision boundaries between different classes."
   ]
  },
  {
   "cell_type": "markdown",
   "id": "a81bc1d6-1407-4ef5-a415-110250d52456",
   "metadata": {},
   "source": [
    "**Interview Questions**"
   ]
  },
  {
   "cell_type": "markdown",
   "id": "75657d1a-1a31-470e-a2b7-61d933727841",
   "metadata": {},
   "source": [
    "1. What are the key hyperparameters in KNN?"
   ]
  },
  {
   "cell_type": "markdown",
   "id": "ee7dfb03-1f51-44d2-b7be-1f21b52998d1",
   "metadata": {},
   "source": [
    "K(number of neighbors): The most important hyperparameter, determining how many nearest neighbors to consider\n",
    "**Distance Metric**:This defies how the distance between points is calculated\n",
    "**Weighting of Neighbors**: Whether closer neighbors should have more influence than distance ones."
   ]
  },
  {
   "cell_type": "markdown",
   "id": "e63684b0-636e-49d0-b3dc-b4987a0b1204",
   "metadata": {},
   "source": [
    "2.What distance metrics can be used in KNN?"
   ]
  },
  {
   "cell_type": "markdown",
   "id": "7edfa316-92a7-4dc0-8e9d-02deb4eadf13",
   "metadata": {},
   "source": [
    "\"Eucliden Distance\": default and most common for continuous features\n",
    "\"Manhattan Distance\": Good for high-dimensional or grid-like data\n",
    "\"Minkowski Distance\": generalized distance metric, inclides Euclidean and Manhattan as special cases\n",
    "\"Hamming Distance\": for categorical variables."
   ]
  }
 ],
 "metadata": {
  "kernelspec": {
   "display_name": "Python 3 (ipykernel)",
   "language": "python",
   "name": "python3"
  },
  "language_info": {
   "codemirror_mode": {
    "name": "ipython",
    "version": 3
   },
   "file_extension": ".py",
   "mimetype": "text/x-python",
   "name": "python",
   "nbconvert_exporter": "python",
   "pygments_lexer": "ipython3",
   "version": "3.11.7"
  }
 },
 "nbformat": 4,
 "nbformat_minor": 5
}
